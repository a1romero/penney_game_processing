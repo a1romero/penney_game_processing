{
 "cells": [
  {
   "cell_type": "code",
   "execution_count": 1,
   "metadata": {},
   "outputs": [],
   "source": [
    "import processing\n",
    "import numpy as np\n",
    "import pandas as pd"
   ]
  },
  {
   "cell_type": "code",
   "execution_count": null,
   "metadata": {},
   "outputs": [],
   "source": [
    "seed = 123\n",
    "deck = shuffle_deck(seed)\n",
    "deck"
   ]
  },
  {
   "cell_type": "code",
   "execution_count": null,
   "metadata": {},
   "outputs": [],
   "source": [
    "processing.score_deck('001001','001','101')"
   ]
  },
  {
   "cell_type": "code",
   "execution_count": 1,
   "metadata": {},
   "outputs": [],
   "source": [
    "import processing\n",
    "import numpy as np"
   ]
  },
  {
   "cell_type": "code",
   "execution_count": 2,
   "metadata": {},
   "outputs": [],
   "source": [
    "def shuffle_deck(seed:None):\n",
    "    '''Generates a single shuffled deck'''\n",
    "    rng = np.random.default_rng(seed = seed)\n",
    "    deck = np.ndarray.flatten((np.stack((np.ones(26), np.zeros(26)), axis= 0).astype(int)))\n",
    "    rng.shuffle(deck)\n",
    "    return ''.join(map(str, deck))"
   ]
  },
  {
   "cell_type": "code",
   "execution_count": 9,
   "metadata": {},
   "outputs": [],
   "source": [
    "def play_n_games(n, data):\n",
    "    for i in range(n):\n",
    "        deck = shuffle_deck(i)\n",
    "        processing.play_one_deck(data = 'data/', deck = deck)\n",
    "\n",
    "    filename = ['cards_win/', 'cards_draw/', 'tricks_win/', 'tricks_draw/']\n",
    "    results = {}\n",
    "\n",
    "    for folder in filename:\n",
    "        if folder == 'cards_win/' or folder == 'tricks_win/':\n",
    "            results[folder] = processing.sum_games(f'{data}{folder}', True)\n",
    "        elif folder == 'cards_draw/' or folder == 'tricks_draw/':\n",
    "            results[folder] = processing.sum_games(f'{data}{folder}', False)\n",
    "    return results"
   ]
  },
  {
   "cell_type": "code",
   "execution_count": 10,
   "metadata": {},
   "outputs": [
    {
     "data": {
      "text/plain": [
       "{'cards_win/': array([[0.0, 0.43333333333333335, 0.8, 0.7666666666666667, 1.0,\n",
       "         0.8333333333333334, 0.9666666666666667, 0.36666666666666664],\n",
       "        [0.5333333333333333, 0.0, 0.13333333333333333,\n",
       "         0.03333333333333333, 1.0, 0.0, 0.3, 0.0],\n",
       "        [0.2, 0.8666666666666667, 0.0, 0.3333333333333333,\n",
       "         0.4666666666666667, 0.43333333333333335, 0.8666666666666667,\n",
       "         0.23333333333333334],\n",
       "        [0.23333333333333334, 0.9666666666666667, 0.6666666666666666, 0.0,\n",
       "         0.5666666666666667, 0.5333333333333333, 0.0, 0.0],\n",
       "        [0.0, 0.0, 0.5, 0.43333333333333335, 0.0, 0.5666666666666667,\n",
       "         0.9333333333333333, 0.13333333333333333],\n",
       "        [0.1, 0.9333333333333333, 0.5333333333333333, 0.4666666666666667,\n",
       "         0.43333333333333335, 0.0, 0.8666666666666667, 0.2],\n",
       "        [0.03333333333333333, 0.6666666666666666, 0.1, 1.0,\n",
       "         0.06666666666666667, 0.1, 0.0, 0.4666666666666667],\n",
       "        [0.6, 1.0, 0.7333333333333333, 1.0, 0.8666666666666667,\n",
       "         0.7333333333333333, 0.5, 0.0]], dtype=object),\n",
       " 'cards_draw/': array([[0, 1, 0, 0, 0, 2, 0, 1],\n",
       "        [1, 0, 0, 0, 0, 2, 1, 0],\n",
       "        [0, 0, 1, 0, 1, 1, 1, 1],\n",
       "        [0, 0, 0, 0, 0, 0, 0, 0],\n",
       "        [0, 0, 1, 0, 0, 0, 0, 0],\n",
       "        [2, 2, 1, 0, 0, 0, 1, 2],\n",
       "        [0, 1, 1, 0, 0, 1, 0, 1],\n",
       "        [1, 0, 1, 0, 0, 2, 1, 0]], dtype=object),\n",
       " 'tricks_win/': array([[0.0, 0.4666666666666667, 0.7666666666666667, 0.7333333333333333,\n",
       "         1.0, 0.7666666666666667, 1.0, 0.23333333333333334],\n",
       "        [0.4666666666666667, 0.0, 0.13333333333333333, 0.0,\n",
       "         0.9333333333333333, 0.0, 0.23333333333333334, 0.0],\n",
       "        [0.1, 0.7333333333333333, 0.0, 0.3333333333333333,\n",
       "         0.3333333333333333, 0.26666666666666666, 0.7666666666666667,\n",
       "         0.06666666666666667],\n",
       "        [0.13333333333333333, 1.0, 0.5666666666666667, 0.0, 0.4, 0.5,\n",
       "         0.06666666666666667, 0.0],\n",
       "        [0.0, 0.03333333333333333, 0.5333333333333333,\n",
       "         0.36666666666666664, 0.0, 0.5, 0.8, 0.06666666666666667],\n",
       "        [0.1, 0.9333333333333333, 0.4666666666666667, 0.4,\n",
       "         0.36666666666666664, 0.0, 0.7, 0.1],\n",
       "        [0.0, 0.43333333333333335, 0.2, 0.9, 0.03333333333333333,\n",
       "         0.16666666666666666, 0.0, 0.3333333333333333],\n",
       "        [0.36666666666666664, 1.0, 0.8, 1.0, 0.7666666666666667, 0.8,\n",
       "         0.4666666666666667, 0.0]], dtype=object),\n",
       " 'tricks_draw/': array([[0, 2, 4, 4, 0, 4, 0, 12],\n",
       "        [2, 0, 4, 0, 1, 2, 10, 0],\n",
       "        [4, 4, 1, 3, 4, 8, 1, 4],\n",
       "        [4, 0, 3, 0, 7, 3, 1, 0],\n",
       "        [0, 1, 4, 7, 0, 4, 5, 5],\n",
       "        [4, 2, 8, 3, 4, 0, 4, 3],\n",
       "        [0, 10, 1, 1, 5, 4, 0, 6],\n",
       "        [12, 0, 4, 0, 5, 3, 6, 0]], dtype=object)}"
      ]
     },
     "execution_count": 10,
     "metadata": {},
     "output_type": "execute_result"
    }
   ],
   "source": [
    "play_n_games(n = 30, data = 'data/')"
   ]
  }
 ],
 "metadata": {
  "kernelspec": {
   "display_name": "base",
   "language": "python",
   "name": "python3"
  },
  "language_info": {
   "codemirror_mode": {
    "name": "ipython",
    "version": 3
   },
   "file_extension": ".py",
   "mimetype": "text/x-python",
   "name": "python",
   "nbconvert_exporter": "python",
   "pygments_lexer": "ipython3",
   "version": "3.9.12"
  }
 },
 "nbformat": 4,
 "nbformat_minor": 2
}
